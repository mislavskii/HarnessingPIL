{
 "cells": [
  {
   "cell_type": "markdown",
   "metadata": {},
   "source": [
    "# Building a Contact Sheet in a Range of Intensities per Color Channel"
   ]
  },
  {
   "cell_type": "markdown",
   "metadata": {},
   "source": [
    "##### Using the PIL library for Python"
   ]
  },
  {
   "cell_type": "code",
   "execution_count": null,
   "metadata": {},
   "outputs": [
    {
     "name": "stdin",
     "output_type": "stream",
     "text": [
      "Enter the image file location: \n"
     ]
    },
    {
     "name": "stdout",
     "output_type": "stream",
     "text": [
      "Invalid file location. Using the sample image instead\n"
     ]
    }
   ],
   "source": [
    "#import PIL\n",
    "from PIL import Image\n",
    "from PIL import ImageDraw as imd\n",
    "from PIL import ImageFont as imf\n",
    "\n",
    "# read image and convert to RGB\n",
    "floc = input('Enter the image file location:')\n",
    "try : \n",
    "    image = Image.open(floc)\n",
    "except :\n",
    "    print('Invalid file location. Using the sample image instead')\n",
    "    image = Image.open('msi_recruitment.gif')\n",
    "image = image.convert('RGB')\n",
    "\n",
    "# Setting variables:\n",
    "\n",
    "# 1. setting the color channels\n",
    "R, G, B = 0, 1, 2\n",
    "channels = [R, G, B] \n",
    "\n",
    "# 2. setting intensities\n",
    "try :\n",
    "    step = int(input('Enter intensity step as a whole number in range 1-4:'))\n",
    "    assert step in range(1,5)\n",
    "    steps = list(range(1,11, step)) # making a list of intensities\n",
    "except :\n",
    "    print('Invalid step input. Using default step instead.')\n",
    "    steps = [1, 5, 9] # default list of intensities (1 to 10 scale)\n",
    "                 \n",
    "# 3. setting text font using a font file stored in the same directory\n",
    "try :\n",
    "    fnt = imf.truetype('fanwood-webfont.ttf', 50) \n",
    "except: \n",
    "    print('Cannot load font. Please make sure there is a *.ttf font file in the current working directory.')\n",
    "\n",
    "# Generating the list of 9 images with text\n",
    "adjusted = []\n",
    "for ch in channels :\n",
    "    #for step in range(1,9, step) :\n",
    "    for step in steps :\n",
    "        txt = 'channel {} intensity {}'.format(ch, step/10) # generating text\n",
    "        place = Image.new(image.mode, (image.width, int(image.height*1.12))) # generating the black background\n",
    "        imd.Draw(place).text((2,image.height), txt, font = fnt) # adding text to the background\n",
    "        place.paste(image, (0, 0)) # pasting image onto the background, then adjusting the color on following lines\n",
    "        source = place.split()\n",
    "        out = source[ch].point(lambda i: i * (step/10)) #implementing intesities in current channel\n",
    "        source[ch].paste(out)\n",
    "        img = Image.merge(place.mode, source)\n",
    "        adjusted.append(img)\n",
    "\n",
    "# Creating the contact sheet from different channels and intensities\n",
    "contact_sheet = Image.new(img.mode, (img.width*len(steps), img.height*3))\n",
    "x = 0\n",
    "y = 0\n",
    "for img in adjusted:\n",
    "    contact_sheet.paste(img, (x, y) )\n",
    "    if x + img.width == contact_sheet.width:\n",
    "        x = 0\n",
    "        y = y + img.height\n",
    "    else:\n",
    "        x = x + img.width\n",
    "\n",
    "# Resize and display the contact sheet\n",
    "contact_sheet = contact_sheet.resize((int(contact_sheet.width/2),int(contact_sheet.height/2) ))\n",
    "display(contact_sheet)\n",
    "print('Channels legend: 0 = RED, 1 = GREEN, 2 = BLUE')"
   ]
  },
  {
   "cell_type": "markdown",
   "metadata": {},
   "source": [
    "If something goes wrong, please report to mislavsky@yandex.ua"
   ]
  },
  {
   "cell_type": "code",
   "execution_count": null,
   "metadata": {},
   "outputs": [],
   "source": []
  }
 ],
 "metadata": {
  "kernelspec": {
   "display_name": "Python 3",
   "language": "python",
   "name": "python3"
  },
  "language_info": {
   "codemirror_mode": {
    "name": "ipython",
    "version": 3
   },
   "file_extension": ".py",
   "mimetype": "text/x-python",
   "name": "python",
   "nbconvert_exporter": "python",
   "pygments_lexer": "ipython3",
   "version": "3.7.3"
  }
 },
 "nbformat": 4,
 "nbformat_minor": 4
}
